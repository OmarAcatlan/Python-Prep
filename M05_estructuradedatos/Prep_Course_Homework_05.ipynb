{
 "cells": [
  {
   "attachments": {},
   "cell_type": "markdown",
   "metadata": {},
   "source": [
    "## Estructuras de Datos"
   ]
  },
  {
   "attachments": {},
   "cell_type": "markdown",
   "metadata": {},
   "source": [
    "1) Crear una lista que contenga nombres de ciudades del mundo que contenga más de 5 elementos e imprimir por pantalla"
   ]
  },
  {
   "cell_type": "code",
   "execution_count": 1,
   "metadata": {},
   "outputs": [],
   "source": [
    "my_list = ['Nueva York', 'Hong Kong', 'Nueva Deli', 'Monte rey']"
   ]
  },
  {
   "attachments": {},
   "cell_type": "markdown",
   "metadata": {},
   "source": [
    "2) Imprimir por pantalla el segundo elemento de la lista"
   ]
  },
  {
   "cell_type": "code",
   "execution_count": 2,
   "metadata": {},
   "outputs": [
    {
     "name": "stdout",
     "output_type": "stream",
     "text": [
      "['Nueva York', 'Hong Kong', 'Nueva Deli', 'Monte rey']\n"
     ]
    }
   ],
   "source": [
    "print(my_list)"
   ]
  },
  {
   "attachments": {},
   "cell_type": "markdown",
   "metadata": {},
   "source": [
    "3) Imprimir por pantalla del segundo al cuarto elemento"
   ]
  },
  {
   "cell_type": "code",
   "execution_count": 3,
   "metadata": {},
   "outputs": [
    {
     "name": "stdout",
     "output_type": "stream",
     "text": [
      "['Hong Kong', 'Nueva Deli', 'Monte rey']\n"
     ]
    }
   ],
   "source": [
    "print(my_list[1:5])"
   ]
  },
  {
   "attachments": {},
   "cell_type": "markdown",
   "metadata": {},
   "source": [
    "4) Visualizar el tipo de dato de la lista"
   ]
  },
  {
   "cell_type": "code",
   "execution_count": 4,
   "metadata": {},
   "outputs": [
    {
     "data": {
      "text/plain": [
       "list"
      ]
     },
     "execution_count": 4,
     "metadata": {},
     "output_type": "execute_result"
    }
   ],
   "source": [
    "type(my_list)"
   ]
  },
  {
   "attachments": {},
   "cell_type": "markdown",
   "metadata": {},
   "source": [
    "5) Visualizar todos los elementos de la lista a partir del tercero de manera genérica, es decir, sin explicitar la posición del último elemento"
   ]
  },
  {
   "cell_type": "code",
   "execution_count": 5,
   "metadata": {},
   "outputs": [
    {
     "name": "stdout",
     "output_type": "stream",
     "text": [
      "['Nueva Deli', 'Monte rey']\n"
     ]
    }
   ],
   "source": [
    "print(my_list[2:])"
   ]
  },
  {
   "attachments": {},
   "cell_type": "markdown",
   "metadata": {},
   "source": [
    "6) Visualizar los primeros 4 elementos de la lista"
   ]
  },
  {
   "cell_type": "code",
   "execution_count": 7,
   "metadata": {},
   "outputs": [
    {
     "data": {
      "text/plain": [
       "['Nueva York', 'Hong Kong', 'Nueva Deli', 'Monte rey']"
      ]
     },
     "execution_count": 7,
     "metadata": {},
     "output_type": "execute_result"
    }
   ],
   "source": [
    "my_list[0:4]"
   ]
  },
  {
   "attachments": {},
   "cell_type": "markdown",
   "metadata": {},
   "source": [
    "7) Agregar una ciudad más a la lista que ya exista y otra que no ¿Arroja algún tipo de error?"
   ]
  },
  {
   "cell_type": "code",
   "execution_count": 35,
   "metadata": {},
   "outputs": [],
   "source": [
    "my_list.append('Nueva Deli')"
   ]
  },
  {
   "attachments": {},
   "cell_type": "markdown",
   "metadata": {},
   "source": [
    "8) Agregar otra ciudad, pero en la cuarta posición"
   ]
  },
  {
   "cell_type": "code",
   "execution_count": 12,
   "metadata": {},
   "outputs": [],
   "source": [
    "my_list.insert(3,'Roma')"
   ]
  },
  {
   "attachments": {},
   "cell_type": "markdown",
   "metadata": {},
   "source": [
    "9) Concatenar otra lista a la ya creada"
   ]
  },
  {
   "cell_type": "code",
   "execution_count": 34,
   "metadata": {},
   "outputs": [
    {
     "name": "stdout",
     "output_type": "stream",
     "text": [
      "<class 'list'>\n",
      "[['berlin', 'CDMX'], ['berlin', 'CDMX'], ['berlin', 'CDMX'], ['berlin', 'CDMX'], ['berlin', 'CDMX'], ['berlin', 'CDMX'], 'Nueva York', 'my_other_list', 'my_other_list', 'my_other_list', 'Hong Kong', 'Nueva Deli', 'Roma', 'Monte rey', 'Tokyo', 'berlin', 'CDMX', 'berlin', 'CDMX', 'berlin', 'CDMX', 'berlin', 'CDMX', 'berlin', 'CDMX', 'berlin', 'CDMX', ['berlin', 'CDMX'], ['berlin', 'CDMX']]\n"
     ]
    }
   ],
   "source": [
    "my_other_list = ['berlin','CDMX']\n",
    "print(type(my_other_list))\n",
    "my_list.insert(0,my_other_list) \n",
    "print(my_list)"
   ]
  },
  {
   "attachments": {},
   "cell_type": "markdown",
   "metadata": {},
   "source": [
    "10) Encontrar el índice de la ciudad que en el punto 7 agregamos duplicada. ¿Se nota alguna particularidad?"
   ]
  },
  {
   "cell_type": "code",
   "execution_count": 37,
   "metadata": {},
   "outputs": [
    {
     "name": "stdout",
     "output_type": "stream",
     "text": [
      "11\n"
     ]
    }
   ],
   "source": [
    "index_nuevaDeli = my_list.index('Nueva Deli')\n",
    "print(index_nuevaDeli)"
   ]
  },
  {
   "attachments": {},
   "cell_type": "markdown",
   "metadata": {},
   "source": [
    "11) ¿Qué pasa si se busca un elemento que no existe?"
   ]
  },
  {
   "cell_type": "code",
   "execution_count": 39,
   "metadata": {},
   "outputs": [
    {
     "ename": "ValueError",
     "evalue": "'Londres' is not in list",
     "output_type": "error",
     "traceback": [
      "\u001b[1;31m---------------------------------------------------------------------------\u001b[0m",
      "\u001b[1;31mValueError\u001b[0m                                Traceback (most recent call last)",
      "Cell \u001b[1;32mIn[39], line 2\u001b[0m\n\u001b[0;32m      1\u001b[0m \u001b[39m# nos da un error el cual indica que el elemento no esta en lista\u001b[39;00m\n\u001b[1;32m----> 2\u001b[0m \u001b[39mprint\u001b[39m(my_list\u001b[39m.\u001b[39;49mindex(\u001b[39m'\u001b[39;49m\u001b[39mLondres\u001b[39;49m\u001b[39m'\u001b[39;49m))\n",
      "\u001b[1;31mValueError\u001b[0m: 'Londres' is not in list"
     ]
    }
   ],
   "source": [
    "# nos da un error el cual indica que el elemento no esta en lista\n",
    "print(my_list.index('Londres'))"
   ]
  },
  {
   "attachments": {},
   "cell_type": "markdown",
   "metadata": {},
   "source": [
    "12) Eliminar un elemento de la lista"
   ]
  },
  {
   "cell_type": "code",
   "execution_count": 40,
   "metadata": {},
   "outputs": [],
   "source": [
    "my_list.remove('CDMX')"
   ]
  },
  {
   "attachments": {},
   "cell_type": "markdown",
   "metadata": {},
   "source": [
    "13) ¿Qué pasa si el elemento a eliminar no existe?"
   ]
  },
  {
   "cell_type": "code",
   "execution_count": 41,
   "metadata": {},
   "outputs": [
    {
     "ename": "ValueError",
     "evalue": "list.remove(x): x not in list",
     "output_type": "error",
     "traceback": [
      "\u001b[1;31m---------------------------------------------------------------------------\u001b[0m",
      "\u001b[1;31mValueError\u001b[0m                                Traceback (most recent call last)",
      "Cell \u001b[1;32mIn[41], line 2\u001b[0m\n\u001b[0;32m      1\u001b[0m \u001b[39m#nos indica que el elemto que queremos borrar no existe\u001b[39;00m\n\u001b[1;32m----> 2\u001b[0m my_list\u001b[39m.\u001b[39;49mremove(\u001b[39m'\u001b[39;49m\u001b[39mParis\u001b[39;49m\u001b[39m'\u001b[39;49m)\n",
      "\u001b[1;31mValueError\u001b[0m: list.remove(x): x not in list"
     ]
    }
   ],
   "source": [
    "#nos indica que el elemto que queremos borrar no existe\n",
    "my_list.remove('Paris')\n"
   ]
  },
  {
   "attachments": {},
   "cell_type": "markdown",
   "metadata": {},
   "source": [
    "14) Extraer el úlimo elemento de la lista, guardarlo en una variable e imprimirlo"
   ]
  },
  {
   "cell_type": "code",
   "execution_count": 43,
   "metadata": {},
   "outputs": [
    {
     "name": "stdout",
     "output_type": "stream",
     "text": [
      "['berlin', 'CDMX']\n"
     ]
    }
   ],
   "source": [
    "ultimo_my_list = my_list.pop()\n",
    "print(ultimo_my_list)"
   ]
  },
  {
   "attachments": {},
   "cell_type": "markdown",
   "metadata": {},
   "source": [
    "15) Mostrar la lista multiplicada por 4"
   ]
  },
  {
   "cell_type": "code",
   "execution_count": 44,
   "metadata": {},
   "outputs": [
    {
     "name": "stdout",
     "output_type": "stream",
     "text": [
      "[['berlin', 'CDMX'], ['berlin', 'CDMX'], ['berlin', 'CDMX'], ['berlin', 'CDMX'], ['berlin', 'CDMX'], ['berlin', 'CDMX'], 'Nueva York', 'my_other_list', 'my_other_list', 'my_other_list', 'Hong Kong', 'Nueva Deli', 'Roma', 'Monte rey', 'Tokyo', 'berlin', 'berlin', 'CDMX', 'berlin', 'CDMX', 'berlin', 'CDMX', 'berlin', 'CDMX', 'berlin', 'CDMX', ['berlin', 'CDMX'], ['berlin', 'CDMX'], ['berlin', 'CDMX'], ['berlin', 'CDMX'], ['berlin', 'CDMX'], ['berlin', 'CDMX'], ['berlin', 'CDMX'], 'Nueva York', 'my_other_list', 'my_other_list', 'my_other_list', 'Hong Kong', 'Nueva Deli', 'Roma', 'Monte rey', 'Tokyo', 'berlin', 'berlin', 'CDMX', 'berlin', 'CDMX', 'berlin', 'CDMX', 'berlin', 'CDMX', 'berlin', 'CDMX', ['berlin', 'CDMX'], ['berlin', 'CDMX'], ['berlin', 'CDMX'], ['berlin', 'CDMX'], ['berlin', 'CDMX'], ['berlin', 'CDMX'], ['berlin', 'CDMX'], 'Nueva York', 'my_other_list', 'my_other_list', 'my_other_list', 'Hong Kong', 'Nueva Deli', 'Roma', 'Monte rey', 'Tokyo', 'berlin', 'berlin', 'CDMX', 'berlin', 'CDMX', 'berlin', 'CDMX', 'berlin', 'CDMX', 'berlin', 'CDMX', ['berlin', 'CDMX'], ['berlin', 'CDMX'], ['berlin', 'CDMX'], ['berlin', 'CDMX'], ['berlin', 'CDMX'], ['berlin', 'CDMX'], ['berlin', 'CDMX'], 'Nueva York', 'my_other_list', 'my_other_list', 'my_other_list', 'Hong Kong', 'Nueva Deli', 'Roma', 'Monte rey', 'Tokyo', 'berlin', 'berlin', 'CDMX', 'berlin', 'CDMX', 'berlin', 'CDMX', 'berlin', 'CDMX', 'berlin', 'CDMX', ['berlin', 'CDMX']]\n"
     ]
    }
   ],
   "source": [
    "print(4*my_list)"
   ]
  },
  {
   "attachments": {},
   "cell_type": "markdown",
   "metadata": {},
   "source": [
    "16) Crear una tupla que contenga los números enteros del 1 al 20"
   ]
  },
  {
   "cell_type": "code",
   "execution_count": 48,
   "metadata": {},
   "outputs": [
    {
     "data": {
      "text/plain": [
       "tuple"
      ]
     },
     "execution_count": 48,
     "metadata": {},
     "output_type": "execute_result"
    }
   ],
   "source": [
    "my_tupla = (1,2,3,4,5,6,7,8,9,10,11,12,13,14,15,16,17,18,19,20)\n",
    "type(my_tupla)"
   ]
  },
  {
   "attachments": {},
   "cell_type": "markdown",
   "metadata": {},
   "source": [
    "17) Imprimir desde el índice 10 al 15 de la tupla"
   ]
  },
  {
   "cell_type": "code",
   "execution_count": 49,
   "metadata": {},
   "outputs": [
    {
     "name": "stdout",
     "output_type": "stream",
     "text": [
      "(11, 12, 13, 14, 15, 16)\n"
     ]
    }
   ],
   "source": [
    "print(my_tupla[10:16])"
   ]
  },
  {
   "attachments": {},
   "cell_type": "markdown",
   "metadata": {},
   "source": [
    "18) Evaluar si los números 20 y 30 están dentro de la tupla"
   ]
  },
  {
   "cell_type": "code",
   "execution_count": 50,
   "metadata": {},
   "outputs": [
    {
     "name": "stdout",
     "output_type": "stream",
     "text": [
      "True\n",
      "False\n"
     ]
    }
   ],
   "source": [
    "print(20 in my_tupla)\n",
    "print(30 in my_tupla)"
   ]
  },
  {
   "attachments": {},
   "cell_type": "markdown",
   "metadata": {},
   "source": [
    "19) Con la lista creada en el punto 1, validar la existencia del elemento 'París' y si no existe, agregarlo. Utilizar una variable e informar lo sucedido."
   ]
  },
  {
   "cell_type": "code",
   "execution_count": 57,
   "metadata": {},
   "outputs": [
    {
     "name": "stdout",
     "output_type": "stream",
     "text": [
      "1\n",
      "[['berlin', 'CDMX'], 'Paris', 'Paris', 'Paris', ['berlin', 'CDMX'], ['berlin', 'CDMX'], ['berlin', 'CDMX'], ['berlin', 'CDMX'], ['berlin', 'CDMX'], 'Nueva York', 'my_other_list', 'my_other_list', 'my_other_list', 'Hong Kong', 'Nueva Deli', 'Roma', 'Monte rey', 'Tokyo', 'berlin', 'berlin', 'CDMX', 'berlin', 'CDMX', 'berlin', 'CDMX', 'berlin', 'CDMX', 'berlin', 'CDMX', ['berlin', 'CDMX']]\n"
     ]
    }
   ],
   "source": [
    "if 'Paris ' not in my_list:\n",
    "    my_list.insert(1,'Paris') \n",
    "print(my_list.index('Paris'))\n",
    "print(my_list)"
   ]
  },
  {
   "cell_type": "code",
   "execution_count": 62,
   "metadata": {},
   "outputs": [
    {
     "name": "stdout",
     "output_type": "stream",
     "text": [
      "[['berlin', 'CDMX'], 'Paris', 'Nueva York', 'my_other_list', 'Hong Kong', 'Nueva Deli', 'Roma', 'Monte rey', 'Tokyo', 'berlin', 'CDMX']\n"
     ]
    }
   ],
   "source": [
    "# Crear una nueva lista para almacenar los elementos únicos\n",
    "unique_list = []\n",
    "\n",
    "# Agregar elementos únicos a la nueva lista\n",
    "for item in my_list:\n",
    "    if item not in unique_list:\n",
    "        unique_list.append(item)\n",
    "\n",
    "# Ahora unique_list contendrá la lista sin duplicados mientras mantiene el orden original\n",
    "print(unique_list)"
   ]
  },
  {
   "attachments": {},
   "cell_type": "markdown",
   "metadata": {},
   "source": [
    "20) Mostrar la cantidad de veces que se encuentra un elemento específico dentro de la tupla y de la lista"
   ]
  },
  {
   "cell_type": "code",
   "execution_count": 68,
   "metadata": {},
   "outputs": [
    {
     "name": "stdout",
     "output_type": "stream",
     "text": [
      "el elemento 10 de la tupla esta 1 veces,  el elemto Paris de la lista esta 3 veces\n"
     ]
    }
   ],
   "source": [
    "#las ocurrencias de de un elemento de las lista y la tupla son:\n",
    "lista = my_list.count('Paris')\n",
    "tupla = my_tupla.count(10)\n",
    "print('el elemento 10 de la tupla esta',tupla,'veces,',' el elemto Paris de la lista esta',lista,'veces')"
   ]
  },
  {
   "attachments": {},
   "cell_type": "markdown",
   "metadata": {},
   "source": [
    "21) Convertir la tupla en una lista"
   ]
  },
  {
   "cell_type": "code",
   "execution_count": 69,
   "metadata": {},
   "outputs": [
    {
     "data": {
      "text/plain": [
       "list"
      ]
     },
     "execution_count": 69,
     "metadata": {},
     "output_type": "execute_result"
    }
   ],
   "source": [
    "my_tupla = list(my_tupla)\n",
    "type(my_tupla)"
   ]
  },
  {
   "attachments": {},
   "cell_type": "markdown",
   "metadata": {},
   "source": [
    "22) Desempaquetar solo los primeros 3 elementos de la tupla en 3 variables"
   ]
  },
  {
   "cell_type": "code",
   "execution_count": 71,
   "metadata": {},
   "outputs": [
    {
     "name": "stdout",
     "output_type": "stream",
     "text": [
      "Variable x 1\n",
      "Variable y 2\n",
      "Variable z 3\n"
     ]
    }
   ],
   "source": [
    "x = my_tupla[0]\n",
    "y = my_tupla[1]\n",
    "z = my_tupla[2]\n",
    "\n",
    "print(\"Variable x\", x)\n",
    "print(\"Variable y\", y)\n",
    "print(\"Variable z\", z)\n"
   ]
  },
  {
   "attachments": {},
   "cell_type": "markdown",
   "metadata": {},
   "source": [
    "23) Crear un diccionario utilizando la lista crada en el punto 1, asignandole la clave \"ciudad\". Agregar tambien otras claves, como puede ser \"Pais\" y \"Continente\"."
   ]
  },
  {
   "cell_type": "code",
   "execution_count": 72,
   "metadata": {},
   "outputs": [],
   "source": [
    "my_dicc = {\n",
    "    'ciudad' : ['my_list'],\n",
    "    'Pais' : ['Alemania','Mexico','Italia','Estados Unidos'],\n",
    "    'Continente' : ['Europa','America','Asia','Africa']\n",
    "}"
   ]
  },
  {
   "attachments": {},
   "cell_type": "markdown",
   "metadata": {},
   "source": [
    "24) Imprimir las claves del diccionario"
   ]
  },
  {
   "cell_type": "code",
   "execution_count": 76,
   "metadata": {},
   "outputs": [
    {
     "name": "stdout",
     "output_type": "stream",
     "text": [
      "dict_keys(['ciudad', 'Pais', 'Continente'])\n"
     ]
    },
    {
     "data": {
      "text/plain": [
       "list"
      ]
     },
     "execution_count": 76,
     "metadata": {},
     "output_type": "execute_result"
    }
   ],
   "source": [
    "print(my_dicc.keys())\n"
   ]
  },
  {
   "attachments": {},
   "cell_type": "markdown",
   "metadata": {},
   "source": [
    "25) Imprimir las ciudades a través de su clave"
   ]
  },
  {
   "cell_type": "code",
   "execution_count": 77,
   "metadata": {},
   "outputs": [
    {
     "name": "stdout",
     "output_type": "stream",
     "text": [
      "['berlin', 'CDMX']\n",
      "Paris\n",
      "Paris\n",
      "Paris\n",
      "['berlin', 'CDMX']\n",
      "['berlin', 'CDMX']\n",
      "['berlin', 'CDMX']\n",
      "['berlin', 'CDMX']\n",
      "['berlin', 'CDMX']\n",
      "Nueva York\n",
      "my_other_list\n",
      "my_other_list\n",
      "my_other_list\n",
      "Hong Kong\n",
      "Nueva Deli\n",
      "Roma\n",
      "Monte rey\n",
      "Tokyo\n",
      "berlin\n",
      "berlin\n",
      "CDMX\n",
      "berlin\n",
      "CDMX\n",
      "berlin\n",
      "CDMX\n",
      "berlin\n",
      "CDMX\n",
      "berlin\n",
      "CDMX\n",
      "['berlin', 'CDMX']\n",
      "las ciudades del diccionario son :  ['my_list']\n"
     ]
    }
   ],
   "source": [
    "for ciudad in my_list:\n",
    "    print(ciudad)\n",
    "print(\"las ciudades del diccionario son : \", my_dicc['ciudad'])"
   ]
  }
 ],
 "metadata": {
  "interpreter": {
   "hash": "c85384e4cb51c8b72350f3a8712cc8351fdc3955e32a27f9b60c6242ab125f01"
  },
  "kernelspec": {
   "display_name": "Python 3 (ipykernel)",
   "language": "python",
   "name": "python3"
  },
  "language_info": {
   "codemirror_mode": {
    "name": "ipython",
    "version": 3
   },
   "file_extension": ".py",
   "mimetype": "text/x-python",
   "name": "python",
   "nbconvert_exporter": "python",
   "pygments_lexer": "ipython3",
   "version": "3.11.4"
  }
 },
 "nbformat": 4,
 "nbformat_minor": 4
}
